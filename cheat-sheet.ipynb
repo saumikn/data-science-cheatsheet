{
 "cells": [
  {
   "cell_type": "code",
   "execution_count": 1,
   "id": "hourly-candy",
   "metadata": {},
   "outputs": [],
   "source": [
    "import numpy as np\n",
    "import pandas as pd\n",
    "\n",
    "import seaborn as sns\n",
    "import matplotlib\n",
    "\n",
    "import sklearn\n",
    "from sklearn import *\n"
   ]
  },
  {
   "cell_type": "code",
   "execution_count": 2,
   "id": "adjustable-litigation",
   "metadata": {},
   "outputs": [],
   "source": [
    "%matplotlib inline\n",
    "sns.set_theme()"
   ]
  },
  {
   "cell_type": "code",
   "execution_count": null,
   "id": "uniform-theater",
   "metadata": {},
   "outputs": [],
   "source": []
  },
  {
   "cell_type": "code",
   "execution_count": null,
   "id": "organizational-loading",
   "metadata": {},
   "outputs": [],
   "source": []
  },
  {
   "cell_type": "code",
   "execution_count": 65,
   "id": "abandoned-thumbnail",
   "metadata": {},
   "outputs": [],
   "source": [
    "# sklearn.ensemble.RandomForestClassifier\n",
    "# sklearn.ensemble.RandomForestRegressor\n",
    "\n",
    "# sklearn.linear_model.LogisticRegression\n",
    "# sklearn.linear_model.LinearRegression\n",
    "\n",
    "# sklearn.tree.DecisionTreeClassifier\n",
    "# sklearn.tree.DecisionTreeRegressor\n",
    "\n",
    "# sklearn.svm.LinearSVC\n",
    "# sklearn.svm.LinearSVR\n",
    "\n",
    "# sklearn.neighbors.KNeighborsClassifier\n",
    "# sklearn.neighbors.KNeighborsRegressor"
   ]
  },
  {
   "cell_type": "code",
   "execution_count": 66,
   "id": "acoustic-cedar",
   "metadata": {},
   "outputs": [
    {
     "data": {
      "text/plain": [
       "{'fit_time': array([0.00089598, 0.00088787, 0.00086403, 0.0008142 , 0.00086498]),\n",
       " 'score_time': array([0.00673509, 0.00906301, 0.00675011, 0.00651288, 0.00612473]),\n",
       " 'test_score': array([0.7877095 , 0.7752809 , 0.83707865, 0.83146067, 0.82022472])}"
      ]
     },
     "execution_count": 66,
     "metadata": {},
     "output_type": "execute_result"
    }
   ],
   "source": [
    "sklearn.model_selection.cross_validate(sklearn.neighbors.KNeighborsClassifier(), X=newx, y=Y)"
   ]
  },
  {
   "cell_type": "code",
   "execution_count": 67,
   "id": "beginning-transfer",
   "metadata": {},
   "outputs": [
    {
     "data": {
      "text/plain": [
       "(891, 5)"
      ]
     },
     "execution_count": 67,
     "metadata": {},
     "output_type": "execute_result"
    }
   ],
   "source": [
    "newx.shape"
   ]
  },
  {
   "cell_type": "code",
   "execution_count": null,
   "id": "backed-celebration",
   "metadata": {},
   "outputs": [],
   "source": []
  }
 ],
 "metadata": {
  "kernelspec": {
   "display_name": "Python 3",
   "language": "python",
   "name": "python3"
  },
  "language_info": {
   "codemirror_mode": {
    "name": "ipython",
    "version": 3
   },
   "file_extension": ".py",
   "mimetype": "text/x-python",
   "name": "python",
   "nbconvert_exporter": "python",
   "pygments_lexer": "ipython3",
   "version": "3.8.3"
  }
 },
 "nbformat": 4,
 "nbformat_minor": 5
}
